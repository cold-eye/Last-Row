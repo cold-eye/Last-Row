{
 "cells": [
  {
   "cell_type": "markdown",
   "metadata": {},
   "source": [
    "table of contents  \n",
    "1. Prepare  \n",
    "2. Data Read, Preprocess, Save"
   ]
  },
  {
   "cell_type": "markdown",
   "metadata": {},
   "source": [
    "# Prepare"
   ]
  },
  {
   "cell_type": "markdown",
   "metadata": {},
   "source": [
    "## Import Library"
   ]
  },
  {
   "cell_type": "code",
   "execution_count": 2,
   "metadata": {},
   "outputs": [],
   "source": [
    "import os\n",
    "\n",
    "import numpy as np\n",
    "import pandas as pd"
   ]
  },
  {
   "cell_type": "markdown",
   "metadata": {},
   "source": [
    "## Define Static Parameter"
   ]
  },
  {
   "cell_type": "code",
   "execution_count": 3,
   "metadata": {},
   "outputs": [
    {
     "output_type": "execute_result",
     "data": {
      "text/plain": "['LIV_[2]-1_CHE.csv',\n 'liverpool_2019_passes.csv',\n 'liverpool_2019.csv',\n 'Real_vs_Barcelona_Calma.csv']"
     },
     "metadata": {},
     "execution_count": 3
    }
   ],
   "source": [
    "base_dir = os.path.join('..')\n",
    "in_dir = os.path.join(base_dir, 'datasets', 'positional_data')\n",
    "out_dir = os.path.join(base_dir, 'datasets', 'preprocessed')\n",
    "\n",
    "os.listdir(in_dir)"
   ]
  },
  {
   "cell_type": "markdown",
   "metadata": {},
   "source": [
    "# Data Read, Preprocess, Save"
   ]
  },
  {
   "cell_type": "code",
   "execution_count": 6,
   "metadata": {},
   "outputs": [],
   "source": [
    "df = pd.read_csv(os.path.join(in_dir, 'liverpool_2019_passes.csv'), index_col=[0])"
   ]
  },
  {
   "cell_type": "code",
   "execution_count": 7,
   "metadata": {},
   "outputs": [
    {
     "output_type": "execute_result",
     "data": {
      "text/plain": "  from_team     from_x     from_y  from_frame  from_player_num to_team  \\\n0    attack  46.394558  11.134454           0             10.0  attack   \n1    attack  51.813185  28.611598          42              8.0  attack   \n2    attack  85.565258  30.767056         108              9.0  attack   \n0    attack  36.054422  68.277311          16              4.0  attack   \n0    attack  47.429230  15.842044          14             26.0  attack   \n\n        to_x       to_y  to_frame  to_player_num  \\\n0  48.844160  27.191910      22.0            8.0   \n1  85.565258  30.767056     108.0            9.0   \n2  86.219036  33.236389     118.0           11.0   \n0  82.955888  73.003584      78.0           10.0   \n0  28.497923   7.131785      42.0           10.0   \n\n                            play  \n0  Liverpool [3] - 0 Bournemouth  \n1  Liverpool [3] - 0 Bournemouth  \n2  Liverpool [3] - 0 Bournemouth  \n0       Bayern 0 - [1] Liverpool  \n0       Fulham 0 - [1] Liverpool  ",
      "text/html": "<div>\n<style scoped>\n    .dataframe tbody tr th:only-of-type {\n        vertical-align: middle;\n    }\n\n    .dataframe tbody tr th {\n        vertical-align: top;\n    }\n\n    .dataframe thead th {\n        text-align: right;\n    }\n</style>\n<table border=\"1\" class=\"dataframe\">\n  <thead>\n    <tr style=\"text-align: right;\">\n      <th></th>\n      <th>from_team</th>\n      <th>from_x</th>\n      <th>from_y</th>\n      <th>from_frame</th>\n      <th>from_player_num</th>\n      <th>to_team</th>\n      <th>to_x</th>\n      <th>to_y</th>\n      <th>to_frame</th>\n      <th>to_player_num</th>\n      <th>play</th>\n    </tr>\n  </thead>\n  <tbody>\n    <tr>\n      <td>0</td>\n      <td>attack</td>\n      <td>46.394558</td>\n      <td>11.134454</td>\n      <td>0</td>\n      <td>10.0</td>\n      <td>attack</td>\n      <td>48.844160</td>\n      <td>27.191910</td>\n      <td>22.0</td>\n      <td>8.0</td>\n      <td>Liverpool [3] - 0 Bournemouth</td>\n    </tr>\n    <tr>\n      <td>1</td>\n      <td>attack</td>\n      <td>51.813185</td>\n      <td>28.611598</td>\n      <td>42</td>\n      <td>8.0</td>\n      <td>attack</td>\n      <td>85.565258</td>\n      <td>30.767056</td>\n      <td>108.0</td>\n      <td>9.0</td>\n      <td>Liverpool [3] - 0 Bournemouth</td>\n    </tr>\n    <tr>\n      <td>2</td>\n      <td>attack</td>\n      <td>85.565258</td>\n      <td>30.767056</td>\n      <td>108</td>\n      <td>9.0</td>\n      <td>attack</td>\n      <td>86.219036</td>\n      <td>33.236389</td>\n      <td>118.0</td>\n      <td>11.0</td>\n      <td>Liverpool [3] - 0 Bournemouth</td>\n    </tr>\n    <tr>\n      <td>0</td>\n      <td>attack</td>\n      <td>36.054422</td>\n      <td>68.277311</td>\n      <td>16</td>\n      <td>4.0</td>\n      <td>attack</td>\n      <td>82.955888</td>\n      <td>73.003584</td>\n      <td>78.0</td>\n      <td>10.0</td>\n      <td>Bayern 0 - [1] Liverpool</td>\n    </tr>\n    <tr>\n      <td>0</td>\n      <td>attack</td>\n      <td>47.429230</td>\n      <td>15.842044</td>\n      <td>14</td>\n      <td>26.0</td>\n      <td>attack</td>\n      <td>28.497923</td>\n      <td>7.131785</td>\n      <td>42.0</td>\n      <td>10.0</td>\n      <td>Fulham 0 - [1] Liverpool</td>\n    </tr>\n  </tbody>\n</table>\n</div>"
     },
     "metadata": {},
     "execution_count": 7
    }
   ],
   "source": [
    "df.head()"
   ]
  },
  {
   "cell_type": "code",
   "execution_count": 8,
   "metadata": {},
   "outputs": [
    {
     "output_type": "execute_result",
     "data": {
      "text/plain": "19"
     },
     "metadata": {},
     "execution_count": 8
    }
   ],
   "source": [
    "len(df.play.unique())"
   ]
  },
  {
   "cell_type": "markdown",
   "metadata": {},
   "source": [
    "## Encode Position"
   ]
  },
  {
   "cell_type": "code",
   "execution_count": 9,
   "metadata": {},
   "outputs": [],
   "source": [
    "x_size, y_size = 106, 68\n",
    "\n",
    "c_x_list, c_y_list = [c for c in df.columns if c.endswith('_x')], [c for c in df.columns if c.endswith('_y')]\n",
    "    \n",
    "df[c_x_list] = df[c_x_list].applymap(lambda x: (x_size/2)*((x-50)/50))\n",
    "df[c_y_list] = df[c_y_list].applymap(lambda x: (y_size/2)*((x-50)/50))"
   ]
  },
  {
   "cell_type": "code",
   "execution_count": 10,
   "metadata": {},
   "outputs": [
    {
     "output_type": "execute_result",
     "data": {
      "text/plain": "  from_team     from_x     from_y  from_frame  from_player_num to_team  \\\n0    attack  -3.821769 -26.428571           0             10.0  attack   \n1    attack   1.921977 -14.544113          42              8.0  attack   \n2    attack  37.699173 -13.078402         108              9.0  attack   \n0    attack -14.782313  12.428571          16              4.0  attack   \n0    attack  -2.725016 -23.227410          14             26.0  attack   \n\n        to_x       to_y  to_frame  to_player_num  \\\n0  -1.225191 -15.509501      22.0            8.0   \n1  37.699173 -13.078402     108.0            9.0   \n2  38.392178 -11.399255     118.0           11.0   \n0  34.933241  15.642437      78.0           10.0   \n0 -22.792201 -29.150386      42.0           10.0   \n\n                            play  \n0  Liverpool [3] - 0 Bournemouth  \n1  Liverpool [3] - 0 Bournemouth  \n2  Liverpool [3] - 0 Bournemouth  \n0       Bayern 0 - [1] Liverpool  \n0       Fulham 0 - [1] Liverpool  ",
      "text/html": "<div>\n<style scoped>\n    .dataframe tbody tr th:only-of-type {\n        vertical-align: middle;\n    }\n\n    .dataframe tbody tr th {\n        vertical-align: top;\n    }\n\n    .dataframe thead th {\n        text-align: right;\n    }\n</style>\n<table border=\"1\" class=\"dataframe\">\n  <thead>\n    <tr style=\"text-align: right;\">\n      <th></th>\n      <th>from_team</th>\n      <th>from_x</th>\n      <th>from_y</th>\n      <th>from_frame</th>\n      <th>from_player_num</th>\n      <th>to_team</th>\n      <th>to_x</th>\n      <th>to_y</th>\n      <th>to_frame</th>\n      <th>to_player_num</th>\n      <th>play</th>\n    </tr>\n  </thead>\n  <tbody>\n    <tr>\n      <td>0</td>\n      <td>attack</td>\n      <td>-3.821769</td>\n      <td>-26.428571</td>\n      <td>0</td>\n      <td>10.0</td>\n      <td>attack</td>\n      <td>-1.225191</td>\n      <td>-15.509501</td>\n      <td>22.0</td>\n      <td>8.0</td>\n      <td>Liverpool [3] - 0 Bournemouth</td>\n    </tr>\n    <tr>\n      <td>1</td>\n      <td>attack</td>\n      <td>1.921977</td>\n      <td>-14.544113</td>\n      <td>42</td>\n      <td>8.0</td>\n      <td>attack</td>\n      <td>37.699173</td>\n      <td>-13.078402</td>\n      <td>108.0</td>\n      <td>9.0</td>\n      <td>Liverpool [3] - 0 Bournemouth</td>\n    </tr>\n    <tr>\n      <td>2</td>\n      <td>attack</td>\n      <td>37.699173</td>\n      <td>-13.078402</td>\n      <td>108</td>\n      <td>9.0</td>\n      <td>attack</td>\n      <td>38.392178</td>\n      <td>-11.399255</td>\n      <td>118.0</td>\n      <td>11.0</td>\n      <td>Liverpool [3] - 0 Bournemouth</td>\n    </tr>\n    <tr>\n      <td>0</td>\n      <td>attack</td>\n      <td>-14.782313</td>\n      <td>12.428571</td>\n      <td>16</td>\n      <td>4.0</td>\n      <td>attack</td>\n      <td>34.933241</td>\n      <td>15.642437</td>\n      <td>78.0</td>\n      <td>10.0</td>\n      <td>Bayern 0 - [1] Liverpool</td>\n    </tr>\n    <tr>\n      <td>0</td>\n      <td>attack</td>\n      <td>-2.725016</td>\n      <td>-23.227410</td>\n      <td>14</td>\n      <td>26.0</td>\n      <td>attack</td>\n      <td>-22.792201</td>\n      <td>-29.150386</td>\n      <td>42.0</td>\n      <td>10.0</td>\n      <td>Fulham 0 - [1] Liverpool</td>\n    </tr>\n  </tbody>\n</table>\n</div>"
     },
     "metadata": {},
     "execution_count": 10
    }
   ],
   "source": [
    "df.head()"
   ]
  },
  {
   "cell_type": "code",
   "execution_count": 11,
   "metadata": {},
   "outputs": [
    {
     "output_type": "execute_result",
     "data": {
      "text/plain": "Index(['from_team', 'from_x', 'from_y', 'from_frame', 'from_player_num',\n       'to_team', 'to_x', 'to_y', 'to_frame', 'to_player_num', 'play'],\n      dtype='object')"
     },
     "metadata": {},
     "execution_count": 11
    }
   ],
   "source": [
    "df.columns"
   ]
  },
  {
   "cell_type": "code",
   "execution_count": 13,
   "metadata": {},
   "outputs": [],
   "source": [
    "df.columns = ['Team', 'Start X', 'Start Y', 'Start Frame', 'From', 'to_team', 'End X', 'End Y', 'End Frame', 'To', 'play']"
   ]
  },
  {
   "cell_type": "markdown",
   "metadata": {},
   "source": [
    "## save"
   ]
  },
  {
   "cell_type": "code",
   "execution_count": 17,
   "metadata": {},
   "outputs": [],
   "source": [
    "c_list = ['Team', 'Start Frame', 'End Frame' ,'Start X', 'Start Y', 'End X', 'End Y', 'From', 'To']\n",
    "for play in df.play.unique():\n",
    "    df[df.play==play][c_list].fillna(0).astype({'End Frame':int, 'From':int, 'To':int}).to_csv(os.path.join(out_dir, play, 'events.csv'), index=False)"
   ]
  }
 ],
 "metadata": {
  "language_info": {
   "codemirror_mode": {
    "name": "ipython",
    "version": 3
   },
   "file_extension": ".py",
   "mimetype": "text/x-python",
   "name": "python",
   "nbconvert_exporter": "python",
   "pygments_lexer": "ipython3",
   "version": "3.6.0-final"
  },
  "orig_nbformat": 2,
  "kernelspec": {
   "name": "python36064bitpy36conda3ff1ef800910494ca5c265a70a3bf713",
   "display_name": "Python 3.6.0 64-bit ('py36': conda)"
  }
 },
 "nbformat": 4,
 "nbformat_minor": 2
}