{
 "cells": [
  {
   "cell_type": "markdown",
   "metadata": {},
   "source": [
    "table of contents  \n",
    "1. Prepare  \n",
    "2. Dataset Read, and generate movie"
   ]
  },
  {
   "cell_type": "markdown",
   "metadata": {},
   "source": [
    "# Prepare"
   ]
  },
  {
   "cell_type": "markdown",
   "metadata": {},
   "source": [
    "## Import Library"
   ]
  },
  {
   "cell_type": "code",
   "execution_count": 1,
   "metadata": {},
   "outputs": [],
   "source": [
    "import os, sys\n",
    "\n",
    "import numpy as np\n",
    "import pandas as pd\n",
    "import matplotlib.pyplot as plt\n",
    "%matplotlib inline"
   ]
  },
  {
   "cell_type": "markdown",
   "metadata": {},
   "source": [
    "## Define Static Parameter"
   ]
  },
  {
   "cell_type": "code",
   "execution_count": 2,
   "metadata": {},
   "outputs": [],
   "source": [
    "base_dir = os.path.join('..')\n",
    "out_dir = os.path.join(base_dir, 'reports', 'movie', 'original')\n",
    "\n",
    "sys.path.append(os.path.join(base_dir, 'scripts'))\n",
    "import Metrica_Viz as mviz"
   ]
  },
  {
   "cell_type": "markdown",
   "metadata": {},
   "source": [
    "# Dataset Reading, and Preprocess"
   ]
  },
  {
   "cell_type": "code",
   "execution_count": 3,
   "metadata": {},
   "outputs": [
    {
     "output_type": "stream",
     "name": "stdout",
     "text": "['Fulham 0 - [1] Liverpool', 'Genk 0 - [3] Liverpool', 'Bayern 0 - [1] Liverpool', 'Southampton 1 - [2] Liverpool', 'Bournemouth 0 - 3 Liverpool', 'Liverpool [1] - 0 Everton', 'Liverpool [3] - 0 Bournemouth', 'Liverpool [1] - 0 Wolves', 'Liverpool [2] - 1 Chelsea', 'Liverpool [3] - 0 Norwich', 'Liverpool [2] - 0 Porto', 'Liverpool [2] - 0 Everton', 'Liverpool [2] - 1 Newcastle', 'Liverpool [2] - 0 Salzburg', 'Liverpool [2] - 0 Man City', 'Liverpool [1] - 0 Watford', 'Leicester 0 - [3] Liverpool', 'Liverpool [4] - 0 Barcelona', 'Porto 0 - [2] Liverpool']\n"
    }
   ],
   "source": [
    "data_dir = os.path.join(base_dir, 'datasets', 'preprocessed')\n",
    "play_list = [play for play in os.listdir(data_dir) if os.path.isdir(os.path.join(data_dir, play))]\n",
    "print(play_list)"
   ]
  },
  {
   "cell_type": "code",
   "execution_count": 4,
   "metadata": {},
   "outputs": [
    {
     "output_type": "stream",
     "name": "stdout",
     "text": "Fulham 0 - [1] Liverpool\nGenerating movie...done\nGenk 0 - [3] Liverpool\nGenerating movie...done\nBayern 0 - [1] Liverpool\nGenerating movie...done\nSouthampton 1 - [2] Liverpool\nGenerating movie...done\nBournemouth 0 - 3 Liverpool\nGenerating movie...done\nLiverpool [1] - 0 Everton\nGenerating movie...done\nLiverpool [3] - 0 Bournemouth\nGenerating movie...done\nLiverpool [1] - 0 Wolves\nGenerating movie...done\nLiverpool [2] - 1 Chelsea\nGenerating movie...done\nLiverpool [3] - 0 Norwich\nGenerating movie...done\nLiverpool [2] - 0 Porto\nGenerating movie...done\nLiverpool [2] - 0 Everton\nGenerating movie...done\nLiverpool [2] - 1 Newcastle\nGenerating movie...done\nLiverpool [2] - 0 Salzburg\nGenerating movie...done\nLiverpool [2] - 0 Man City\nGenerating movie...done\nLiverpool [1] - 0 Watford\nGenerating movie...done\nLeicester 0 - [3] Liverpool\nGenerating movie...done\nLiverpool [4] - 0 Barcelona\nGenerating movie...done\nPorto 0 - [2] Liverpool\nGenerating movie...done\n"
    }
   ],
   "source": [
    "for play in play_list:\n",
    "    print(play)\n",
    "    data_dir_tmp = os.path.join(data_dir, play)\n",
    "    df_dict, color_dict = {}, {}\n",
    "    for infile in os.listdir(data_dir_tmp):\n",
    "        if not infile.startswith('events.'):\n",
    "            team, color = infile.replace('.csv','').split('_')\n",
    "            df_dict[team] = pd.read_csv(os.path.join(data_dir_tmp, infile), index_col=[0])\n",
    "            color_dict[team] = color\n",
    "    \n",
    "    mviz.save_match_clip(df_dict, fpath=out_dir, fname=play, figax=mviz.plot_pitch(field_color='twitter_dark_mode'), frames_per_second=20, team_color_dict=color_dict, annotate=True, include_player_velocities=True)"
   ]
  }
 ],
 "metadata": {
  "language_info": {
   "codemirror_mode": {
    "name": "ipython",
    "version": 3
   },
   "file_extension": ".py",
   "mimetype": "text/x-python",
   "name": "python",
   "nbconvert_exporter": "python",
   "pygments_lexer": "ipython3",
   "version": "3.6.0-final"
  },
  "orig_nbformat": 2,
  "kernelspec": {
   "name": "python36064bitpy36conda3ff1ef800910494ca5c265a70a3bf713",
   "display_name": "Python 3.6.0 64-bit ('py36': conda)"
  }
 },
 "nbformat": 4,
 "nbformat_minor": 2
}