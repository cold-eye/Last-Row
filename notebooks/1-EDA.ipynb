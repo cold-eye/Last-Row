{
 "cells": [
  {
   "cell_type": "markdown",
   "metadata": {},
   "source": [
    "table of contents  \n",
    "1. Prepare  \n",
    "2. Data Read, Preprocess, EDA  \n",
    "3. Aggregate, Visualize"
   ]
  },
  {
   "cell_type": "markdown",
   "metadata": {},
   "source": [
    "# Prepare"
   ]
  },
  {
   "cell_type": "markdown",
   "metadata": {},
   "source": [
    "## Import Library"
   ]
  },
  {
   "cell_type": "code",
   "execution_count": 1,
   "metadata": {},
   "outputs": [],
   "source": [
    "import os, time, sys, importlib\n",
    "\n",
    "import numpy as np\n",
    "import pandas as pd\n",
    "import matplotlib.pyplot as plt\n",
    "\n",
    "%matplotlib inline"
   ]
  },
  {
   "cell_type": "markdown",
   "metadata": {},
   "source": [
    "## Define Static Parameter"
   ]
  },
  {
   "cell_type": "code",
   "execution_count": 2,
   "metadata": {},
   "outputs": [],
   "source": [
    "base_dir = os.path.join('..')\n",
    "data_dir = os.path.join(base_dir, 'datasets', 'positional_data')\n",
    "\n",
    "sys.path.append(os.path.join(base_dir,'..','LaurieOnTracking','src'))\n",
    "import Metrica_IO as mio\n",
    "import Metrica_Viz as mviz\n",
    "import Metrica_Velocities as mvel"
   ]
  },
  {
   "cell_type": "markdown",
   "metadata": {},
   "source": [
    "# Data Read Preprocess, EDA"
   ]
  },
  {
   "cell_type": "markdown",
   "metadata": {},
   "source": [
    "## Read Dataset"
   ]
  },
  {
   "cell_type": "code",
   "execution_count": 3,
   "metadata": {},
   "outputs": [
    {
     "output_type": "execute_result",
     "data": {
      "text/plain": "['LIV_[2]-1_CHE.csv', 'liverpool_2019.csv', 'Real_vs_Barcelona_Calma.csv']"
     },
     "metadata": {},
     "execution_count": 3
    }
   ],
   "source": [
    "os.listdir(data_dir)"
   ]
  },
  {
   "cell_type": "code",
   "execution_count": 4,
   "metadata": {},
   "outputs": [],
   "source": [
    "df = pd.read_csv(os.path.join(data_dir, 'liverpool_2019.csv'), index_col=['play', 'frame'])"
   ]
  },
  {
   "cell_type": "code",
   "execution_count": 5,
   "metadata": {},
   "outputs": [
    {
     "output_type": "execute_result",
     "data": {
      "text/plain": "                                     Unnamed: 0 bgcolor        dx        dy  \\\nplay                          frame                                           \nLiverpool [3] - 0 Bournemouth 0               0     NaN  0.000000  0.000000   \n                              1               1     NaN  0.185745  1.217580   \n                              2               2     NaN  0.178659  1.171133   \n                              3               3     NaN  0.171573  1.124685   \n                              4               4     NaN  0.164488  1.078238   \n\n                                    edgecolor  player  player_num team  \\\nplay                          frame                                      \nLiverpool [3] - 0 Bournemouth 0           NaN       0         NaN  NaN   \n                              1           NaN       0         NaN  NaN   \n                              2           NaN       0         NaN  NaN   \n                              3           NaN       0         NaN  NaN   \n                              4           NaN       0         NaN  NaN   \n\n                                             x          y    z  \nplay                          frame                             \nLiverpool [3] - 0 Bournemouth 0      46.394558  11.134454  0.0  \n                              1      46.580302  12.352034  0.0  \n                              2      46.758961  13.523166  0.0  \n                              3      46.930535  14.647852  0.0  \n                              4      47.095022  15.726090  0.0  ",
      "text/html": "<div>\n<style scoped>\n    .dataframe tbody tr th:only-of-type {\n        vertical-align: middle;\n    }\n\n    .dataframe tbody tr th {\n        vertical-align: top;\n    }\n\n    .dataframe thead th {\n        text-align: right;\n    }\n</style>\n<table border=\"1\" class=\"dataframe\">\n  <thead>\n    <tr style=\"text-align: right;\">\n      <th></th>\n      <th></th>\n      <th>Unnamed: 0</th>\n      <th>bgcolor</th>\n      <th>dx</th>\n      <th>dy</th>\n      <th>edgecolor</th>\n      <th>player</th>\n      <th>player_num</th>\n      <th>team</th>\n      <th>x</th>\n      <th>y</th>\n      <th>z</th>\n    </tr>\n    <tr>\n      <th>play</th>\n      <th>frame</th>\n      <th></th>\n      <th></th>\n      <th></th>\n      <th></th>\n      <th></th>\n      <th></th>\n      <th></th>\n      <th></th>\n      <th></th>\n      <th></th>\n      <th></th>\n    </tr>\n  </thead>\n  <tbody>\n    <tr>\n      <td rowspan=\"5\" valign=\"top\">Liverpool [3] - 0 Bournemouth</td>\n      <td>0</td>\n      <td>0</td>\n      <td>NaN</td>\n      <td>0.000000</td>\n      <td>0.000000</td>\n      <td>NaN</td>\n      <td>0</td>\n      <td>NaN</td>\n      <td>NaN</td>\n      <td>46.394558</td>\n      <td>11.134454</td>\n      <td>0.0</td>\n    </tr>\n    <tr>\n      <td>1</td>\n      <td>1</td>\n      <td>NaN</td>\n      <td>0.185745</td>\n      <td>1.217580</td>\n      <td>NaN</td>\n      <td>0</td>\n      <td>NaN</td>\n      <td>NaN</td>\n      <td>46.580302</td>\n      <td>12.352034</td>\n      <td>0.0</td>\n    </tr>\n    <tr>\n      <td>2</td>\n      <td>2</td>\n      <td>NaN</td>\n      <td>0.178659</td>\n      <td>1.171133</td>\n      <td>NaN</td>\n      <td>0</td>\n      <td>NaN</td>\n      <td>NaN</td>\n      <td>46.758961</td>\n      <td>13.523166</td>\n      <td>0.0</td>\n    </tr>\n    <tr>\n      <td>3</td>\n      <td>3</td>\n      <td>NaN</td>\n      <td>0.171573</td>\n      <td>1.124685</td>\n      <td>NaN</td>\n      <td>0</td>\n      <td>NaN</td>\n      <td>NaN</td>\n      <td>46.930535</td>\n      <td>14.647852</td>\n      <td>0.0</td>\n    </tr>\n    <tr>\n      <td>4</td>\n      <td>4</td>\n      <td>NaN</td>\n      <td>0.164488</td>\n      <td>1.078238</td>\n      <td>NaN</td>\n      <td>0</td>\n      <td>NaN</td>\n      <td>NaN</td>\n      <td>47.095022</td>\n      <td>15.726090</td>\n      <td>0.0</td>\n    </tr>\n  </tbody>\n</table>\n</div>"
     },
     "metadata": {},
     "execution_count": 5
    }
   ],
   "source": [
    "df.head()"
   ]
  },
  {
   "cell_type": "code",
   "execution_count": 6,
   "metadata": {},
   "outputs": [
    {
     "output_type": "execute_result",
     "data": {
      "text/plain": "Index(['Liverpool [3] - 0 Bournemouth', 'Bayern 0 - [1] Liverpool',\n       'Fulham 0 - [1] Liverpool', 'Southampton 1 - [2] Liverpool',\n       'Liverpool [2] - 0 Porto', 'Porto 0 - [2] Liverpool',\n       'Liverpool [4] - 0 Barcelona', 'Liverpool [1] - 0 Wolves',\n       'Liverpool [3] - 0 Norwich', 'Liverpool [2] - 1 Chelsea',\n       'Liverpool [2] - 1 Newcastle', 'Liverpool [2] - 0 Salzburg',\n       'Genk 0 - [3] Liverpool', 'Liverpool [2] - 0 Man City',\n       'Liverpool [1] - 0 Everton', 'Liverpool [2] - 0 Everton',\n       'Bournemouth 0 - 3 Liverpool', 'Liverpool [1] - 0 Watford',\n       'Leicester 0 - [3] Liverpool'],\n      dtype='object', name='play')"
     },
     "metadata": {},
     "execution_count": 6
    }
   ],
   "source": [
    "df.index.get_level_values('play').unique()"
   ]
  },
  {
   "cell_type": "markdown",
   "metadata": {},
   "source": [
    "## Viz All"
   ]
  },
  {
   "cell_type": "code",
   "execution_count": 8,
   "metadata": {},
   "outputs": [],
   "source": [
    "x_size, y_size = 106, 68\n",
    "\n",
    "def pivot_table_for_Metrica(df):\n",
    "    df = df.pivot_table(index='frame', columns='player', values=['x', 'y'])\n",
    "    df.columns = [f'ball_{c_tuple[0]}' if c_tuple[1] == 0 else f'{c_tuple[1]}_{c_tuple[0]}' for c_tuple in df.columns]\n",
    "\n",
    "    c_x_list, c_y_list = [c for c in df.columns if c.endswith('_x')], [c for c in df.columns if c.endswith('_y')]\n",
    "    \n",
    "    df[c_x_list] = df[c_x_list].applymap(lambda x: (x_size/2)*((x-50)/50))\n",
    "    df[c_y_list] = df[c_y_list].applymap(lambda x: (y_size/2)*((x-50)/50))\n",
    "\n",
    "    return df"
   ]
  },
  {
   "cell_type": "code",
   "execution_count": 9,
   "metadata": {},
   "outputs": [
    {
     "output_type": "stream",
     "name": "stdout",
     "text": "Generating movie...done\nGenerating movie...done\nGenerating movie...done\nGenerating movie...done\nGenerating movie...done\nGenerating movie...done\nGenerating movie...done\nGenerating movie...done\nGenerating movie...done\nGenerating movie...done\nGenerating movie...done\nGenerating movie...done\nGenerating movie...done\nGenerating movie...done\nGenerating movie...done\nGenerating movie...done\nGenerating movie...done\nGenerating movie...done\nGenerating movie...done\n"
    }
   ],
   "source": [
    "for play in df.index.get_level_values('play').unique():\n",
    "    df_tmp = df.loc[play]\n",
    "    bgcolor_list = df_tmp.bgcolor.dropna().unique().tolist()\n",
    "    \n",
    "    # split, preprocess\n",
    "    df_list = [pivot_table_for_Metrica(df_tmp[df_tmp.bgcolor.isin([bgcolor, np.nan])]) for bgcolor in bgcolor_list]\n",
    "    \n",
    "    mviz.save_match_clip(df_list[0], df_list[1], fpath=os.path.join(base_dir, 'reports', 'movie'), fname=play, figax=mviz.plot_pitch(field_color='twitter_dark_mode'), team_colors=bgcolor_list, title=play)"
   ]
  }
 ],
 "metadata": {
  "language_info": {
   "codemirror_mode": {
    "name": "ipython",
    "version": 3
   },
   "file_extension": ".py",
   "mimetype": "text/x-python",
   "name": "python",
   "nbconvert_exporter": "python",
   "pygments_lexer": "ipython3",
   "version": "3.6.0-final"
  },
  "orig_nbformat": 2,
  "kernelspec": {
   "name": "python36064bitpy36conda3ff1ef800910494ca5c265a70a3bf713",
   "display_name": "Python 3.6.0 64-bit ('py36': conda)"
  }
 },
 "nbformat": 4,
 "nbformat_minor": 2
}