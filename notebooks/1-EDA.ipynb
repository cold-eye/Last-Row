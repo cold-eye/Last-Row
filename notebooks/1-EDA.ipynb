{
 "cells": [
  {
   "cell_type": "markdown",
   "metadata": {},
   "source": [
    "table of contents  \n",
    "1. Prepare  \n",
    "2. Data Read, Preprocess, EDA  \n",
    "3. Aggregate, Visualize"
   ]
  },
  {
   "cell_type": "markdown",
   "metadata": {},
   "source": [
    "# Prepare"
   ]
  },
  {
   "cell_type": "markdown",
   "metadata": {},
   "source": [
    "## Import Library"
   ]
  },
  {
   "cell_type": "code",
   "execution_count": 1,
   "metadata": {},
   "outputs": [],
   "source": [
    "import os, time, sys, importlib\n",
    "\n",
    "import numpy as np\n",
    "import pandas as pd\n",
    "import matplotlib.pyplot as plt\n",
    "\n",
    "%matplotlib inline"
   ]
  },
  {
   "cell_type": "markdown",
   "metadata": {},
   "source": [
    "## Define Static Parameter"
   ]
  },
  {
   "cell_type": "code",
   "execution_count": 2,
   "metadata": {},
   "outputs": [],
   "source": [
    "base_dir = os.path.join('..')\n",
    "data_dir = os.path.join(base_dir, 'datasets', 'positional_data')\n",
    "\n",
    "sys.path.append(os.path.join(base_dir,'..','LaurieOnTracking','src'))\n",
    "import Metrica_IO as mio\n",
    "import Metrica_Viz as mviz\n",
    "import Metrica_Velocities as mvel"
   ]
  },
  {
   "cell_type": "markdown",
   "metadata": {},
   "source": [
    "# Data Read Preprocess, EDA"
   ]
  },
  {
   "cell_type": "markdown",
   "metadata": {},
   "source": [
    "## Read Dataset"
   ]
  },
  {
   "cell_type": "code",
   "execution_count": 3,
   "metadata": {},
   "outputs": [
    {
     "output_type": "execute_result",
     "data": {
      "text/plain": "['LIV_[2]-1_CHE.csv', 'liverpool_2019.csv', 'Real_vs_Barcelona_Calma.csv']"
     },
     "metadata": {},
     "execution_count": 3
    }
   ],
   "source": [
    "os.listdir(data_dir)"
   ]
  },
  {
   "cell_type": "code",
   "execution_count": 4,
   "metadata": {},
   "outputs": [],
   "source": [
    "df = pd.read_csv(os.path.join(data_dir, 'liverpool_2019.csv'), index_col=['play', 'frame'])"
   ]
  },
  {
   "cell_type": "code",
   "execution_count": 5,
   "metadata": {},
   "outputs": [
    {
     "output_type": "execute_result",
     "data": {
      "text/plain": "                                     Unnamed: 0 bgcolor        dx        dy  \\\nplay                          frame                                           \nLiverpool [3] - 0 Bournemouth 0               0     NaN  0.000000  0.000000   \n                              1               1     NaN  0.185745  1.217580   \n                              2               2     NaN  0.178659  1.171133   \n                              3               3     NaN  0.171573  1.124685   \n                              4               4     NaN  0.164488  1.078238   \n\n                                    edgecolor  player  player_num team  \\\nplay                          frame                                      \nLiverpool [3] - 0 Bournemouth 0           NaN       0         NaN  NaN   \n                              1           NaN       0         NaN  NaN   \n                              2           NaN       0         NaN  NaN   \n                              3           NaN       0         NaN  NaN   \n                              4           NaN       0         NaN  NaN   \n\n                                             x          y    z  \nplay                          frame                             \nLiverpool [3] - 0 Bournemouth 0      46.394558  11.134454  0.0  \n                              1      46.580302  12.352034  0.0  \n                              2      46.758961  13.523166  0.0  \n                              3      46.930535  14.647852  0.0  \n                              4      47.095022  15.726090  0.0  ",
      "text/html": "<div>\n<style scoped>\n    .dataframe tbody tr th:only-of-type {\n        vertical-align: middle;\n    }\n\n    .dataframe tbody tr th {\n        vertical-align: top;\n    }\n\n    .dataframe thead th {\n        text-align: right;\n    }\n</style>\n<table border=\"1\" class=\"dataframe\">\n  <thead>\n    <tr style=\"text-align: right;\">\n      <th></th>\n      <th></th>\n      <th>Unnamed: 0</th>\n      <th>bgcolor</th>\n      <th>dx</th>\n      <th>dy</th>\n      <th>edgecolor</th>\n      <th>player</th>\n      <th>player_num</th>\n      <th>team</th>\n      <th>x</th>\n      <th>y</th>\n      <th>z</th>\n    </tr>\n    <tr>\n      <th>play</th>\n      <th>frame</th>\n      <th></th>\n      <th></th>\n      <th></th>\n      <th></th>\n      <th></th>\n      <th></th>\n      <th></th>\n      <th></th>\n      <th></th>\n      <th></th>\n      <th></th>\n    </tr>\n  </thead>\n  <tbody>\n    <tr>\n      <td rowspan=\"5\" valign=\"top\">Liverpool [3] - 0 Bournemouth</td>\n      <td>0</td>\n      <td>0</td>\n      <td>NaN</td>\n      <td>0.000000</td>\n      <td>0.000000</td>\n      <td>NaN</td>\n      <td>0</td>\n      <td>NaN</td>\n      <td>NaN</td>\n      <td>46.394558</td>\n      <td>11.134454</td>\n      <td>0.0</td>\n    </tr>\n    <tr>\n      <td>1</td>\n      <td>1</td>\n      <td>NaN</td>\n      <td>0.185745</td>\n      <td>1.217580</td>\n      <td>NaN</td>\n      <td>0</td>\n      <td>NaN</td>\n      <td>NaN</td>\n      <td>46.580302</td>\n      <td>12.352034</td>\n      <td>0.0</td>\n    </tr>\n    <tr>\n      <td>2</td>\n      <td>2</td>\n      <td>NaN</td>\n      <td>0.178659</td>\n      <td>1.171133</td>\n      <td>NaN</td>\n      <td>0</td>\n      <td>NaN</td>\n      <td>NaN</td>\n      <td>46.758961</td>\n      <td>13.523166</td>\n      <td>0.0</td>\n    </tr>\n    <tr>\n      <td>3</td>\n      <td>3</td>\n      <td>NaN</td>\n      <td>0.171573</td>\n      <td>1.124685</td>\n      <td>NaN</td>\n      <td>0</td>\n      <td>NaN</td>\n      <td>NaN</td>\n      <td>46.930535</td>\n      <td>14.647852</td>\n      <td>0.0</td>\n    </tr>\n    <tr>\n      <td>4</td>\n      <td>4</td>\n      <td>NaN</td>\n      <td>0.164488</td>\n      <td>1.078238</td>\n      <td>NaN</td>\n      <td>0</td>\n      <td>NaN</td>\n      <td>NaN</td>\n      <td>47.095022</td>\n      <td>15.726090</td>\n      <td>0.0</td>\n    </tr>\n  </tbody>\n</table>\n</div>"
     },
     "metadata": {},
     "execution_count": 5
    }
   ],
   "source": [
    "df.head()"
   ]
  },
  {
   "cell_type": "code",
   "execution_count": 6,
   "metadata": {},
   "outputs": [
    {
     "output_type": "execute_result",
     "data": {
      "text/plain": "Index(['Liverpool [3] - 0 Bournemouth', 'Bayern 0 - [1] Liverpool',\n       'Fulham 0 - [1] Liverpool', 'Southampton 1 - [2] Liverpool',\n       'Liverpool [2] - 0 Porto', 'Porto 0 - [2] Liverpool',\n       'Liverpool [4] - 0 Barcelona', 'Liverpool [1] - 0 Wolves',\n       'Liverpool [3] - 0 Norwich', 'Liverpool [2] - 1 Chelsea',\n       'Liverpool [2] - 1 Newcastle', 'Liverpool [2] - 0 Salzburg',\n       'Genk 0 - [3] Liverpool', 'Liverpool [2] - 0 Man City',\n       'Liverpool [1] - 0 Everton', 'Liverpool [2] - 0 Everton',\n       'Bournemouth 0 - 3 Liverpool', 'Liverpool [1] - 0 Watford',\n       'Leicester 0 - [3] Liverpool'],\n      dtype='object', name='play')"
     },
     "metadata": {},
     "execution_count": 6
    }
   ],
   "source": [
    "df.index.get_level_values('play').unique()"
   ]
  },
  {
   "cell_type": "markdown",
   "metadata": {},
   "source": [
    "## Select one"
   ]
  },
  {
   "cell_type": "code",
   "execution_count": 7,
   "metadata": {},
   "outputs": [
    {
     "output_type": "execute_result",
     "data": {
      "text/plain": "       Unnamed: 0 bgcolor   dx   dy edgecolor  player  player_num     team  \\\nframe                                                                        \n162          3669    cyan  0.0  0.0     white   11156         NaN  defense   \n163          3670    cyan  0.0  0.0     white   11156         NaN  defense   \n164          3671    cyan  0.0  0.0     white   11156         NaN  defense   \n165          3672    cyan  0.0  0.0     white   11156         NaN  defense   \n166          3673    cyan  0.0  0.0     white   11156         NaN  defense   \n\n             x          y    z  \nframe                           \n162    1.87732  51.118246  0.0  \n163    1.87732  51.118246  0.0  \n164    1.87732  51.118246  0.0  \n165    1.87732  51.118246  0.0  \n166    1.87732  51.118246  0.0  ",
      "text/html": "<div>\n<style scoped>\n    .dataframe tbody tr th:only-of-type {\n        vertical-align: middle;\n    }\n\n    .dataframe tbody tr th {\n        vertical-align: top;\n    }\n\n    .dataframe thead th {\n        text-align: right;\n    }\n</style>\n<table border=\"1\" class=\"dataframe\">\n  <thead>\n    <tr style=\"text-align: right;\">\n      <th></th>\n      <th>Unnamed: 0</th>\n      <th>bgcolor</th>\n      <th>dx</th>\n      <th>dy</th>\n      <th>edgecolor</th>\n      <th>player</th>\n      <th>player_num</th>\n      <th>team</th>\n      <th>x</th>\n      <th>y</th>\n      <th>z</th>\n    </tr>\n    <tr>\n      <th>frame</th>\n      <th></th>\n      <th></th>\n      <th></th>\n      <th></th>\n      <th></th>\n      <th></th>\n      <th></th>\n      <th></th>\n      <th></th>\n      <th></th>\n      <th></th>\n    </tr>\n  </thead>\n  <tbody>\n    <tr>\n      <td>162</td>\n      <td>3669</td>\n      <td>cyan</td>\n      <td>0.0</td>\n      <td>0.0</td>\n      <td>white</td>\n      <td>11156</td>\n      <td>NaN</td>\n      <td>defense</td>\n      <td>1.87732</td>\n      <td>51.118246</td>\n      <td>0.0</td>\n    </tr>\n    <tr>\n      <td>163</td>\n      <td>3670</td>\n      <td>cyan</td>\n      <td>0.0</td>\n      <td>0.0</td>\n      <td>white</td>\n      <td>11156</td>\n      <td>NaN</td>\n      <td>defense</td>\n      <td>1.87732</td>\n      <td>51.118246</td>\n      <td>0.0</td>\n    </tr>\n    <tr>\n      <td>164</td>\n      <td>3671</td>\n      <td>cyan</td>\n      <td>0.0</td>\n      <td>0.0</td>\n      <td>white</td>\n      <td>11156</td>\n      <td>NaN</td>\n      <td>defense</td>\n      <td>1.87732</td>\n      <td>51.118246</td>\n      <td>0.0</td>\n    </tr>\n    <tr>\n      <td>165</td>\n      <td>3672</td>\n      <td>cyan</td>\n      <td>0.0</td>\n      <td>0.0</td>\n      <td>white</td>\n      <td>11156</td>\n      <td>NaN</td>\n      <td>defense</td>\n      <td>1.87732</td>\n      <td>51.118246</td>\n      <td>0.0</td>\n    </tr>\n    <tr>\n      <td>166</td>\n      <td>3673</td>\n      <td>cyan</td>\n      <td>0.0</td>\n      <td>0.0</td>\n      <td>white</td>\n      <td>11156</td>\n      <td>NaN</td>\n      <td>defense</td>\n      <td>1.87732</td>\n      <td>51.118246</td>\n      <td>0.0</td>\n    </tr>\n  </tbody>\n</table>\n</div>"
     },
     "metadata": {},
     "execution_count": 7
    }
   ],
   "source": [
    "play = 'Liverpool [2] - 0 Man City'\n",
    "df_tmp = df.loc[play]\n",
    "df_tmp.tail()"
   ]
  },
  {
   "cell_type": "code",
   "execution_count": 8,
   "metadata": {},
   "outputs": [
    {
     "output_type": "execute_result",
     "data": {
      "text/plain": "array([nan, 'red', 'cyan'], dtype=object)"
     },
     "metadata": {},
     "execution_count": 8
    }
   ],
   "source": [
    "df_tmp.bgcolor.unique()"
   ]
  },
  {
   "cell_type": "markdown",
   "metadata": {},
   "source": [
    "### split"
   ]
  },
  {
   "cell_type": "code",
   "execution_count": 9,
   "metadata": {},
   "outputs": [],
   "source": [
    "home_df, away_df = df_tmp[df_tmp.bgcolor.isin(['red', np.nan])], df_tmp[df_tmp.bgcolor.isin(['cyan', np.nan])]"
   ]
  },
  {
   "cell_type": "code",
   "execution_count": 10,
   "metadata": {},
   "outputs": [
    {
     "output_type": "execute_result",
     "data": {
      "text/plain": "array([   0,   13, 1057, 1686, 4162, 4163, 4165, 4166, 4167, 4445, 5817])"
     },
     "metadata": {},
     "execution_count": 10
    }
   ],
   "source": [
    "home_df.player.unique()"
   ]
  },
  {
   "cell_type": "code",
   "execution_count": 11,
   "metadata": {},
   "outputs": [
    {
     "output_type": "execute_result",
     "data": {
      "text/plain": "array([    0,   262,   263,   264,  2749,  2750,  2751,  2752,  2753,\n        2754,  3271, 11156])"
     },
     "metadata": {},
     "execution_count": 11
    }
   ],
   "source": [
    "away_df.player.unique()"
   ]
  },
  {
   "cell_type": "markdown",
   "metadata": {},
   "source": [
    "## Preprocess"
   ]
  },
  {
   "cell_type": "markdown",
   "metadata": {},
   "source": [
    "### pivot table"
   ]
  },
  {
   "cell_type": "code",
   "execution_count": 12,
   "metadata": {},
   "outputs": [],
   "source": [
    "x_size, y_size = 106, 68\n",
    "\n",
    "def pivot_table_for_Metrica(df):\n",
    "    df = df.pivot_table(index='frame', columns='player', values=['x', 'y'])\n",
    "    df.columns = [f'ball_{c_tuple[0]}' if c_tuple[1] == 0 else f'{c_tuple[1]}_{c_tuple[0]}' for c_tuple in df.columns]\n",
    "\n",
    "    c_x_list, c_y_list = [c for c in df.columns if c.endswith('_x')], [c for c in df.columns if c.endswith('_y')]\n",
    "    \n",
    "    df[c_x_list] = df[c_x_list].applymap(lambda x: (x_size/2)*((x-50)/50))\n",
    "    df[c_y_list] = df[c_y_list].applymap(lambda x: (y_size/2)*((x-50)/50))\n",
    "\n",
    "    return df"
   ]
  },
  {
   "cell_type": "code",
   "execution_count": 13,
   "metadata": {},
   "outputs": [],
   "source": [
    "home_df, away_df = pivot_table_for_Metrica(home_df), pivot_table_for_Metrica(away_df)"
   ]
  },
  {
   "cell_type": "markdown",
   "metadata": {},
   "source": [
    "### check"
   ]
  },
  {
   "cell_type": "code",
   "execution_count": 14,
   "metadata": {},
   "outputs": [
    {
     "output_type": "execute_result",
     "data": {
      "text/plain": "Index(['ball_x', '13_x', '1057_x', '1686_x', '4162_x', '4163_x', '4165_x',\n       '4166_x', '4167_x', '4445_x', '5817_x', 'ball_y', '13_y', '1057_y',\n       '1686_y', '4162_y', '4163_y', '4165_y', '4166_y', '4167_y', '4445_y',\n       '5817_y'],\n      dtype='object')"
     },
     "metadata": {},
     "execution_count": 14
    }
   ],
   "source": [
    "home_df.columns"
   ]
  },
  {
   "cell_type": "code",
   "execution_count": 15,
   "metadata": {},
   "outputs": [
    {
     "output_type": "execute_result",
     "data": {
      "text/plain": "(-53.72108843537415, 23.920031568637672)"
     },
     "metadata": {},
     "execution_count": 15
    }
   ],
   "source": [
    "home_df[[c for c in home_df.columns if str(c).endswith('_x')]].min().min(), home_df[[c for c in home_df.columns if str(c).endswith('_x')]].max().max()"
   ]
  },
  {
   "cell_type": "code",
   "execution_count": 16,
   "metadata": {},
   "outputs": [
    {
     "output_type": "execute_result",
     "data": {
      "text/plain": "(-24.434226417160048, 28.0)"
     },
     "metadata": {},
     "execution_count": 16
    }
   ],
   "source": [
    "home_df[[c for c in home_df.columns if str(c).endswith('_y')]].min().min(), home_df[[c for c in home_df.columns if str(c).endswith('_y')]].max().max()"
   ]
  },
  {
   "cell_type": "markdown",
   "metadata": {},
   "source": [
    "# Visualization"
   ]
  },
  {
   "cell_type": "code",
   "execution_count": 17,
   "metadata": {},
   "outputs": [],
   "source": [
    "team_color_list = ['#C8102E', '#6CABDD']"
   ]
  },
  {
   "cell_type": "code",
   "execution_count": 18,
   "metadata": {},
   "outputs": [
    {
     "output_type": "execute_result",
     "data": {
      "text/plain": "(<Figure size 864x576 with 1 Axes>,\n <matplotlib.axes._subplots.AxesSubplot at 0x11f1cd320>)"
     },
     "metadata": {},
     "execution_count": 18
    },
    {
     "output_type": "display_data",
     "data": {
      "text/plain": "<Figure size 864x576 with 1 Axes>",
      "image/svg+xml": "<?xml version=\"1.0\" encoding=\"utf-8\" standalone=\"no\"?>\n<!DOCTYPE svg PUBLIC \"-//W3C//DTD SVG 1.1//EN\"\n  \"http://www.w3.org/Graphics/SVG/1.1/DTD/svg11.dtd\">\n<!-- Created with matplotlib (http://matplotlib.org/) -->\n<svg height=\"456.28pt\" version=\"1.1\" viewBox=\"0 0 691 456.28\" width=\"691pt\" xmlns=\"http://www.w3.org/2000/svg\" xmlns:xlink=\"http://www.w3.org/1999/xlink\">\n <defs>\n  <style type=\"text/css\">\n*{stroke-linecap:butt;stroke-linejoin:round;}\n  </style>\n </defs>\n <g id=\"figure_1\">\n  <g id=\"patch_1\">\n   <path d=\"M 0 456.28 \nL 691 456.28 \nL 691 0 \nL 0 0 \nz\n\" style=\"fill:#141d26;\"/>\n  </g>\n  <g id=\"axes_1\">\n   <g id=\"patch_2\">\n    <path d=\"M 10.7 445.58 \nL 680.3 445.58 \nL 680.3 10.7 \nL 10.7 10.7 \nz\n\" style=\"fill:#141d26;\"/>\n   </g>\n   <g id=\"matplotlib.axis_1\"/>\n   <g id=\"matplotlib.axis_2\"/>\n   <g id=\"PathCollection_1\">\n    <defs>\n     <path d=\"M 0 2.236068 \nC 0.593012 2.236068 1.161816 2.000462 1.581139 1.581139 \nC 2.000462 1.161816 2.236068 0.593012 2.236068 0 \nC 2.236068 -0.593012 2.000462 -1.161816 1.581139 -1.581139 \nC 1.161816 -2.000462 0.593012 -2.236068 0 -2.236068 \nC -0.593012 -2.236068 -1.161816 -2.000462 -1.581139 -1.581139 \nC -2.000462 -1.161816 -2.236068 -0.593012 -2.236068 0 \nC -2.236068 0.593012 -2.000462 1.161816 -1.581139 1.581139 \nC -1.161816 2.000462 -0.593012 2.236068 0 2.236068 \nz\n\" id=\"me7660fa65c\"/>\n    </defs>\n    <g clip-path=\"url(#p50696619c6)\">\n     <use style=\"fill:#f5f5f5;\" x=\"345.5\" xlink:href=\"#me7660fa65c\" y=\"228.14\"/>\n    </g>\n   </g>\n   <g id=\"PathCollection_2\">\n    <g clip-path=\"url(#p50696619c6)\">\n     <use style=\"fill:#f5f5f5;\" x=\"94.237383\" xlink:href=\"#me7660fa65c\" y=\"228.14\"/>\n    </g>\n   </g>\n   <g id=\"PathCollection_3\">\n    <g clip-path=\"url(#p50696619c6)\">\n     <use style=\"fill:#f5f5f5;\" x=\"596.762617\" xlink:href=\"#me7660fa65c\" y=\"228.14\"/>\n    </g>\n   </g>\n   <g id=\"line2d_1\">\n    <path clip-path=\"url(#p50696619c6)\" d=\"M 345.5 427.94973 \nL 345.5 28.33027 \n\" style=\"fill:none;stroke:#f5f5f5;stroke-linecap:square;stroke-width:2;\"/>\n   </g>\n   <g id=\"line2d_2\">\n    <path clip-path=\"url(#p50696619c6)\" d=\"M 345.5 281.877064 \nL 360.959241 279.683714 \nL 367.133734 277.490365 \nL 371.712419 275.297015 \nL 375.436692 273.103666 \nL 378.596258 270.910316 \nL 381.340776 268.716967 \nL 383.75967 266.523617 \nL 385.911454 264.330267 \nL 387.836876 262.136918 \nL 389.565617 259.943568 \nL 391.120044 257.750219 \nL 392.517447 255.556869 \nL 393.771465 253.36352 \nL 394.893022 251.17017 \nL 395.890961 248.976821 \nL 396.772503 246.783471 \nL 397.543561 244.590122 \nL 398.208985 242.396772 \nL 398.772734 240.203422 \nL 399.238007 238.010073 \nL 399.607344 235.816723 \nL 399.882702 233.623374 \nL 400.065501 231.430024 \nL 400.156672 229.236675 \nL 400.156672 227.043325 \nL 400.065501 224.849976 \nL 399.882702 222.656626 \nL 399.607344 220.463277 \nL 399.238007 218.269927 \nL 398.772734 216.076578 \nL 398.208985 213.883228 \nL 397.543561 211.689878 \nL 396.772503 209.496529 \nL 395.890961 207.303179 \nL 394.893022 205.10983 \nL 393.771465 202.91648 \nL 392.517447 200.723131 \nL 391.120044 198.529781 \nL 389.565617 196.336432 \nL 387.836876 194.143082 \nL 385.911454 191.949733 \nL 383.75967 189.756383 \nL 381.340776 187.563033 \nL 378.596258 185.369684 \nL 375.436692 183.176334 \nL 371.712419 180.982985 \nL 367.133734 178.789635 \nL 360.959241 176.596286 \nL 345.5 174.402936 \n\" style=\"fill:none;stroke:#f5f5f5;stroke-linecap:square;stroke-width:2;\"/>\n   </g>\n   <g id=\"line2d_3\">\n    <path clip-path=\"url(#p50696619c6)\" d=\"M 345.5 281.877064 \nL 330.040759 279.683714 \nL 323.866266 277.490365 \nL 319.287581 275.297015 \nL 315.563308 273.103666 \nL 312.403742 270.910316 \nL 309.659224 268.716967 \nL 307.24033 266.523617 \nL 305.088546 264.330267 \nL 303.163124 262.136918 \nL 301.434383 259.943568 \nL 299.879956 257.750219 \nL 298.482553 255.556869 \nL 297.228535 253.36352 \nL 296.106978 251.17017 \nL 295.109039 248.976821 \nL 294.227497 246.783471 \nL 293.456439 244.590122 \nL 292.791015 242.396772 \nL 292.227266 240.203422 \nL 291.761993 238.010073 \nL 291.392656 235.816723 \nL 291.117298 233.623374 \nL 290.934499 231.430024 \nL 290.843328 229.236675 \nL 290.843328 227.043325 \nL 290.934499 224.849976 \nL 291.117298 222.656626 \nL 291.392656 220.463277 \nL 291.761993 218.269927 \nL 292.227266 216.076578 \nL 292.791015 213.883228 \nL 293.456439 211.689878 \nL 294.227497 209.496529 \nL 295.109039 207.303179 \nL 296.106978 205.10983 \nL 297.228535 202.91648 \nL 298.482553 200.723131 \nL 299.879956 198.529781 \nL 301.434383 196.336432 \nL 303.163124 194.143082 \nL 305.088546 191.949733 \nL 307.24033 189.756383 \nL 309.659224 187.563033 \nL 312.403742 185.369684 \nL 315.563308 183.176334 \nL 319.287581 180.982985 \nL 323.866266 178.789635 \nL 330.040759 176.596286 \nL 345.5 174.402936 \n\" style=\"fill:none;stroke:#f5f5f5;stroke-linecap:square;stroke-width:2;\"/>\n   </g>\n   <g id=\"line2d_4\">\n    <path clip-path=\"url(#p50696619c6)\" d=\"M 28.635714 427.94973 \nL 662.364286 427.94973 \n\" style=\"fill:none;stroke:#f5f5f5;stroke-linecap:square;stroke-width:2;\"/>\n   </g>\n   <g id=\"line2d_5\">\n    <path clip-path=\"url(#p50696619c6)\" d=\"M 28.635714 427.94973 \nL 28.635714 28.33027 \n\" style=\"fill:none;stroke:#f5f5f5;stroke-linecap:square;stroke-width:2;\"/>\n   </g>\n   <g id=\"line2d_6\">\n    <defs>\n     <path d=\"M -3 3 \nL 3 3 \nL 3 -3 \nL -3 -3 \nz\n\" id=\"mcf43bdaf95\" style=\"stroke:#ffffff;stroke-linejoin:miter;\"/>\n    </defs>\n    <g clip-path=\"url(#p50696619c6)\">\n     <use style=\"fill:#ffffff;stroke:#ffffff;stroke-linejoin:miter;\" x=\"28.635714\" xlink:href=\"#mcf43bdaf95\" y=\"249.634826\"/>\n     <use style=\"fill:#ffffff;stroke:#ffffff;stroke-linejoin:miter;\" x=\"28.635714\" xlink:href=\"#mcf43bdaf95\" y=\"206.645174\"/>\n    </g>\n   </g>\n   <g id=\"line2d_7\">\n    <path clip-path=\"url(#p50696619c6)\" d=\"M 28.635714 174.402936 \nL 61.436549 174.402936 \n\" style=\"fill:none;stroke:#f5f5f5;stroke-linecap:square;stroke-width:2;\"/>\n   </g>\n   <g id=\"line2d_8\">\n    <path clip-path=\"url(#p50696619c6)\" d=\"M 28.635714 281.877064 \nL 61.436549 281.877064 \n\" style=\"fill:none;stroke:#f5f5f5;stroke-linecap:square;stroke-width:2;\"/>\n   </g>\n   <g id=\"line2d_9\">\n    <path clip-path=\"url(#p50696619c6)\" d=\"M 61.436549 281.877064 \nL 61.436549 174.402936 \n\" style=\"fill:none;stroke:#f5f5f5;stroke-linecap:square;stroke-width:2;\"/>\n   </g>\n   <g id=\"line2d_10\">\n    <path clip-path=\"url(#p50696619c6)\" d=\"M 28.635714 109.91846 \nL 127.038217 109.91846 \n\" style=\"fill:none;stroke:#f5f5f5;stroke-linecap:square;stroke-width:2;\"/>\n   </g>\n   <g id=\"line2d_11\">\n    <path clip-path=\"url(#p50696619c6)\" d=\"M 28.635714 346.36154 \nL 127.038217 346.36154 \n\" style=\"fill:none;stroke:#f5f5f5;stroke-linecap:square;stroke-width:2;\"/>\n   </g>\n   <g id=\"line2d_12\">\n    <path clip-path=\"url(#p50696619c6)\" d=\"M 127.038217 346.36154 \nL 127.038217 109.91846 \n\" style=\"fill:none;stroke:#f5f5f5;stroke-linecap:square;stroke-width:2;\"/>\n   </g>\n   <g id=\"line2d_13\">\n    <path clip-path=\"url(#p50696619c6)\" d=\"M 34.10252 427.94973 \nL 34.101381 427.840062 \nL 34.097964 427.730395 \nL 34.092264 427.620727 \nL 34.084274 427.51106 \nL 34.073984 427.401392 \nL 34.061381 427.291725 \nL 34.046449 427.182057 \nL 34.029168 427.07239 \nL 34.009515 426.962722 \nL 33.987465 426.853055 \nL 33.962988 426.743387 \nL 33.93605 426.63372 \nL 33.906613 426.524053 \nL 33.874635 426.414385 \nL 33.84007 426.304718 \nL 33.802866 426.19505 \nL 33.762965 426.085383 \nL 33.720303 425.975715 \nL 33.67481 425.866048 \nL 33.62641 425.75638 \nL 33.575016 425.646713 \nL 33.520535 425.537045 \nL 33.462861 425.427378 \nL 33.401878 425.31771 \nL 33.337459 425.208043 \nL 33.269459 425.098375 \nL 33.197719 424.988708 \nL 33.122058 424.87904 \nL 33.042276 424.769373 \nL 32.958144 424.659705 \nL 32.869402 424.550038 \nL 32.775754 424.44037 \nL 32.67686 424.330703 \nL 32.572323 424.221036 \nL 32.461681 424.111368 \nL 32.344389 424.001701 \nL 32.219792 423.892033 \nL 32.0871 423.782366 \nL 31.94534 423.672698 \nL 31.79329 423.563031 \nL 31.629383 423.453363 \nL 31.45155 423.343696 \nL 31.256956 423.234028 \nL 31.041539 423.124361 \nL 30.799088 423.014693 \nL 30.51919 422.905026 \nL 30.181638 422.795358 \nL 29.734526 422.685691 \nL 28.635714 422.576023 \n\" style=\"fill:none;stroke:#f5f5f5;stroke-linecap:square;stroke-width:2;\"/>\n   </g>\n   <g id=\"line2d_14\">\n    <path clip-path=\"url(#p50696619c6)\" d=\"M 34.10252 28.33027 \nL 34.101381 28.439938 \nL 34.097964 28.549605 \nL 34.092264 28.659273 \nL 34.084274 28.76894 \nL 34.073984 28.878608 \nL 34.061381 28.988275 \nL 34.046449 29.097943 \nL 34.029168 29.20761 \nL 34.009515 29.317278 \nL 33.987465 29.426945 \nL 33.962988 29.536613 \nL 33.93605 29.64628 \nL 33.906613 29.755947 \nL 33.874635 29.865615 \nL 33.84007 29.975282 \nL 33.802866 30.08495 \nL 33.762965 30.194617 \nL 33.720303 30.304285 \nL 33.67481 30.413952 \nL 33.62641 30.52362 \nL 33.575016 30.633287 \nL 33.520535 30.742955 \nL 33.462861 30.852622 \nL 33.401878 30.96229 \nL 33.337459 31.071957 \nL 33.269459 31.181625 \nL 33.197719 31.291292 \nL 33.122058 31.40096 \nL 33.042276 31.510627 \nL 32.958144 31.620295 \nL 32.869402 31.729962 \nL 32.775754 31.83963 \nL 32.67686 31.949297 \nL 32.572323 32.058964 \nL 32.461681 32.168632 \nL 32.344389 32.278299 \nL 32.219792 32.387967 \nL 32.0871 32.497634 \nL 31.94534 32.607302 \nL 31.79329 32.716969 \nL 31.629383 32.826637 \nL 31.45155 32.936304 \nL 31.256956 33.045972 \nL 31.041539 33.155639 \nL 30.799088 33.265307 \nL 30.51919 33.374974 \nL 30.181638 33.484642 \nL 29.734526 33.594309 \nL 28.635714 33.703977 \n\" style=\"fill:none;stroke:#f5f5f5;stroke-linecap:square;stroke-width:2;\"/>\n   </g>\n   <g id=\"line2d_15\">\n    <path clip-path=\"url(#p50696619c6)\" d=\"M 127.038217 271.129651 \nL 129.292299 269.374971 \nL 131.324126 267.620292 \nL 133.168513 265.865612 \nL 134.851005 264.110932 \nL 136.39099 262.356253 \nL 137.803585 260.601573 \nL 139.100823 258.846894 \nL 140.292453 257.092214 \nL 141.386485 255.337534 \nL 142.389569 253.582855 \nL 143.307285 251.828175 \nL 144.144341 250.073495 \nL 144.904736 248.318816 \nL 145.591875 246.564136 \nL 146.208664 244.809457 \nL 146.757581 243.054777 \nL 147.240735 241.300097 \nL 147.659911 239.545418 \nL 148.016604 237.790738 \nL 148.31205 236.036058 \nL 148.547251 234.281379 \nL 148.722985 232.526699 \nL 148.839826 230.772019 \nL 148.898153 229.01734 \nL 148.898153 227.26266 \nL 148.839826 225.507981 \nL 148.722985 223.753301 \nL 148.547251 221.998621 \nL 148.31205 220.243942 \nL 148.016604 218.489262 \nL 147.659911 216.734582 \nL 147.240735 214.979903 \nL 146.757581 213.225223 \nL 146.208664 211.470543 \nL 145.591875 209.715864 \nL 144.904736 207.961184 \nL 144.144341 206.206505 \nL 143.307285 204.451825 \nL 142.389569 202.697145 \nL 141.386485 200.942466 \nL 140.292453 199.187786 \nL 139.100823 197.433106 \nL 137.803585 195.678427 \nL 136.39099 193.923747 \nL 134.851005 192.169068 \nL 133.168513 190.414388 \nL 131.324126 188.659708 \nL 129.292299 186.905029 \nL 127.038217 185.150349 \n\" style=\"fill:none;stroke:#f5f5f5;stroke-linecap:square;stroke-width:2;\"/>\n   </g>\n   <g id=\"line2d_16\">\n    <path clip-path=\"url(#p50696619c6)\" d=\"M 28.635714 28.33027 \nL 662.364286 28.33027 \n\" style=\"fill:none;stroke:#f5f5f5;stroke-linecap:square;stroke-width:2;\"/>\n   </g>\n   <g id=\"line2d_17\">\n    <path clip-path=\"url(#p50696619c6)\" d=\"M 662.364286 427.94973 \nL 662.364286 28.33027 \n\" style=\"fill:none;stroke:#f5f5f5;stroke-linecap:square;stroke-width:2;\"/>\n   </g>\n   <g id=\"line2d_18\">\n    <g clip-path=\"url(#p50696619c6)\">\n     <use style=\"fill:#ffffff;stroke:#ffffff;stroke-linejoin:miter;\" x=\"662.364286\" xlink:href=\"#mcf43bdaf95\" y=\"249.634826\"/>\n     <use style=\"fill:#ffffff;stroke:#ffffff;stroke-linejoin:miter;\" x=\"662.364286\" xlink:href=\"#mcf43bdaf95\" y=\"206.645174\"/>\n    </g>\n   </g>\n   <g id=\"line2d_19\">\n    <path clip-path=\"url(#p50696619c6)\" d=\"M 662.364286 174.402936 \nL 629.563451 174.402936 \n\" style=\"fill:none;stroke:#f5f5f5;stroke-linecap:square;stroke-width:2;\"/>\n   </g>\n   <g id=\"line2d_20\">\n    <path clip-path=\"url(#p50696619c6)\" d=\"M 662.364286 281.877064 \nL 629.563451 281.877064 \n\" style=\"fill:none;stroke:#f5f5f5;stroke-linecap:square;stroke-width:2;\"/>\n   </g>\n   <g id=\"line2d_21\">\n    <path clip-path=\"url(#p50696619c6)\" d=\"M 629.563451 281.877064 \nL 629.563451 174.402936 \n\" style=\"fill:none;stroke:#f5f5f5;stroke-linecap:square;stroke-width:2;\"/>\n   </g>\n   <g id=\"line2d_22\">\n    <path clip-path=\"url(#p50696619c6)\" d=\"M 662.364286 109.91846 \nL 563.961783 109.91846 \n\" style=\"fill:none;stroke:#f5f5f5;stroke-linecap:square;stroke-width:2;\"/>\n   </g>\n   <g id=\"line2d_23\">\n    <path clip-path=\"url(#p50696619c6)\" d=\"M 662.364286 346.36154 \nL 563.961783 346.36154 \n\" style=\"fill:none;stroke:#f5f5f5;stroke-linecap:square;stroke-width:2;\"/>\n   </g>\n   <g id=\"line2d_24\">\n    <path clip-path=\"url(#p50696619c6)\" d=\"M 563.961783 346.36154 \nL 563.961783 109.91846 \n\" style=\"fill:none;stroke:#f5f5f5;stroke-linecap:square;stroke-width:2;\"/>\n   </g>\n   <g id=\"line2d_25\">\n    <path clip-path=\"url(#p50696619c6)\" d=\"M 656.89748 427.94973 \nL 656.898619 427.840062 \nL 656.902036 427.730395 \nL 656.907736 427.620727 \nL 656.915726 427.51106 \nL 656.926016 427.401392 \nL 656.938619 427.291725 \nL 656.953551 427.182057 \nL 656.970832 427.07239 \nL 656.990485 426.962722 \nL 657.012535 426.853055 \nL 657.037012 426.743387 \nL 657.06395 426.63372 \nL 657.093387 426.524053 \nL 657.125365 426.414385 \nL 657.15993 426.304718 \nL 657.197134 426.19505 \nL 657.237035 426.085383 \nL 657.279697 425.975715 \nL 657.32519 425.866048 \nL 657.37359 425.75638 \nL 657.424984 425.646713 \nL 657.479465 425.537045 \nL 657.537139 425.427378 \nL 657.598122 425.31771 \nL 657.662541 425.208043 \nL 657.730541 425.098375 \nL 657.802281 424.988708 \nL 657.877942 424.87904 \nL 657.957724 424.769373 \nL 658.041856 424.659705 \nL 658.130598 424.550038 \nL 658.224246 424.44037 \nL 658.32314 424.330703 \nL 658.427677 424.221036 \nL 658.538319 424.111368 \nL 658.655611 424.001701 \nL 658.780208 423.892033 \nL 658.9129 423.782366 \nL 659.05466 423.672698 \nL 659.20671 423.563031 \nL 659.370617 423.453363 \nL 659.54845 423.343696 \nL 659.743044 423.234028 \nL 659.958461 423.124361 \nL 660.200912 423.014693 \nL 660.48081 422.905026 \nL 660.818362 422.795358 \nL 661.265474 422.685691 \nL 662.364286 422.576023 \n\" style=\"fill:none;stroke:#f5f5f5;stroke-linecap:square;stroke-width:2;\"/>\n   </g>\n   <g id=\"line2d_26\">\n    <path clip-path=\"url(#p50696619c6)\" d=\"M 656.89748 28.33027 \nL 656.898619 28.439938 \nL 656.902036 28.549605 \nL 656.907736 28.659273 \nL 656.915726 28.76894 \nL 656.926016 28.878608 \nL 656.938619 28.988275 \nL 656.953551 29.097943 \nL 656.970832 29.20761 \nL 656.990485 29.317278 \nL 657.012535 29.426945 \nL 657.037012 29.536613 \nL 657.06395 29.64628 \nL 657.093387 29.755947 \nL 657.125365 29.865615 \nL 657.15993 29.975282 \nL 657.197134 30.08495 \nL 657.237035 30.194617 \nL 657.279697 30.304285 \nL 657.32519 30.413952 \nL 657.37359 30.52362 \nL 657.424984 30.633287 \nL 657.479465 30.742955 \nL 657.537139 30.852622 \nL 657.598122 30.96229 \nL 657.662541 31.071957 \nL 657.730541 31.181625 \nL 657.802281 31.291292 \nL 657.877942 31.40096 \nL 657.957724 31.510627 \nL 658.041856 31.620295 \nL 658.130598 31.729962 \nL 658.224246 31.83963 \nL 658.32314 31.949297 \nL 658.427677 32.058964 \nL 658.538319 32.168632 \nL 658.655611 32.278299 \nL 658.780208 32.387967 \nL 658.9129 32.497634 \nL 659.05466 32.607302 \nL 659.20671 32.716969 \nL 659.370617 32.826637 \nL 659.54845 32.936304 \nL 659.743044 33.045972 \nL 659.958461 33.155639 \nL 660.200912 33.265307 \nL 660.48081 33.374974 \nL 660.818362 33.484642 \nL 661.265474 33.594309 \nL 662.364286 33.703977 \n\" style=\"fill:none;stroke:#f5f5f5;stroke-linecap:square;stroke-width:2;\"/>\n   </g>\n   <g id=\"line2d_27\">\n    <path clip-path=\"url(#p50696619c6)\" d=\"M 563.961783 271.129651 \nL 561.707701 269.374971 \nL 559.675874 267.620292 \nL 557.831487 265.865612 \nL 556.148995 264.110932 \nL 554.60901 262.356253 \nL 553.196415 260.601573 \nL 551.899177 258.846894 \nL 550.707547 257.092214 \nL 549.613515 255.337534 \nL 548.610431 253.582855 \nL 547.692715 251.828175 \nL 546.855659 250.073495 \nL 546.095264 248.318816 \nL 545.408125 246.564136 \nL 544.791336 244.809457 \nL 544.242419 243.054777 \nL 543.759265 241.300097 \nL 543.340089 239.545418 \nL 542.983396 237.790738 \nL 542.68795 236.036058 \nL 542.452749 234.281379 \nL 542.277015 232.526699 \nL 542.160174 230.772019 \nL 542.101847 229.01734 \nL 542.101847 227.26266 \nL 542.160174 225.507981 \nL 542.277015 223.753301 \nL 542.452749 221.998621 \nL 542.68795 220.243942 \nL 542.983396 218.489262 \nL 543.340089 216.734582 \nL 543.759265 214.979903 \nL 544.242419 213.225223 \nL 544.791336 211.470543 \nL 545.408125 209.715864 \nL 546.095264 207.961184 \nL 546.855659 206.206505 \nL 547.692715 204.451825 \nL 548.610431 202.697145 \nL 549.613515 200.942466 \nL 550.707547 199.187786 \nL 551.899177 197.433106 \nL 553.196415 195.678427 \nL 554.60901 193.923747 \nL 556.148995 192.169068 \nL 557.831487 190.414388 \nL 559.675874 188.659708 \nL 561.707701 186.905029 \nL 563.961783 185.150349 \n\" style=\"fill:none;stroke:#f5f5f5;stroke-linecap:square;stroke-width:2;\"/>\n   </g>\n   <g id=\"line2d_28\">\n    <defs>\n     <path d=\"M 0 5 \nC 1.326016 5 2.597899 4.473168 3.535534 3.535534 \nC 4.473168 2.597899 5 1.326016 5 0 \nC 5 -1.326016 4.473168 -2.597899 3.535534 -3.535534 \nC 2.597899 -4.473168 1.326016 -5 0 -5 \nC -1.326016 -5 -2.597899 -4.473168 -3.535534 -3.535534 \nC -4.473168 -2.597899 -5 -1.326016 -5 0 \nC -5 1.326016 -4.473168 2.597899 -3.535534 3.535534 \nC -2.597899 4.473168 -1.326016 5 0 5 \nz\n\" id=\"m4e9a1654b2\" style=\"stroke:#c8102e;\"/>\n    </defs>\n    <g clip-path=\"url(#p50696619c6)\">\n     <use style=\"fill:#c8102e;opacity:0.7;stroke:#c8102e;\" x=\"395.417681\" xlink:href=\"#m4e9a1654b2\" y=\"349.397264\"/>\n     <use style=\"fill:#c8102e;opacity:0.7;stroke:#c8102e;\" x=\"271.085058\" xlink:href=\"#m4e9a1654b2\" y=\"82.295667\"/>\n     <use style=\"fill:#c8102e;opacity:0.7;stroke:#c8102e;\" x=\"422.298298\" xlink:href=\"#m4e9a1654b2\" y=\"84.151551\"/>\n     <use style=\"fill:#c8102e;opacity:0.7;stroke:#c8102e;\" x=\"334.785701\" xlink:href=\"#m4e9a1654b2\" y=\"65.701999\"/>\n     <use style=\"fill:#c8102e;opacity:0.7;stroke:#c8102e;\" x=\"346.197963\" xlink:href=\"#m4e9a1654b2\" y=\"146.227202\"/>\n     <use style=\"fill:#c8102e;opacity:0.7;stroke:#c8102e;\" x=\"378.435373\" xlink:href=\"#m4e9a1654b2\" y=\"195.274608\"/>\n     <use style=\"fill:#c8102e;opacity:0.7;stroke:#c8102e;\" x=\"485.521288\" xlink:href=\"#m4e9a1654b2\" y=\"117.930485\"/>\n     <use style=\"fill:#c8102e;opacity:0.7;stroke:#c8102e;\" x=\"483.278758\" xlink:href=\"#m4e9a1654b2\" y=\"226.366319\"/>\n     <use style=\"fill:#c8102e;opacity:0.7;stroke:#c8102e;\" x=\"410.275809\" xlink:href=\"#m4e9a1654b2\" y=\"110.778662\"/>\n     <use style=\"fill:#c8102e;opacity:0.7;stroke:#c8102e;\" x=\"287.359188\" xlink:href=\"#m4e9a1654b2\" y=\"229.791289\"/>\n    </g>\n   </g>\n   <g id=\"line2d_29\">\n    <defs>\n     <path d=\"M 0 5 \nC 1.326016 5 2.597899 4.473168 3.535534 3.535534 \nC 4.473168 2.597899 5 1.326016 5 0 \nC 5 -1.326016 4.473168 -2.597899 3.535534 -3.535534 \nC 2.597899 -4.473168 1.326016 -5 0 -5 \nC -1.326016 -5 -2.597899 -4.473168 -3.535534 -3.535534 \nC -4.473168 -2.597899 -5 -1.326016 -5 0 \nC -5 1.326016 -4.473168 2.597899 -3.535534 3.535534 \nC -2.597899 4.473168 -1.326016 5 0 5 \nz\n\" id=\"mc6f277f019\" style=\"stroke:#6cabdd;\"/>\n    </defs>\n    <g clip-path=\"url(#p50696619c6)\">\n     <use style=\"fill:#6cabdd;opacity:0.7;stroke:#6cabdd;\" x=\"292.766635\" xlink:href=\"#mc6f277f019\" y=\"86.885862\"/>\n     <use style=\"fill:#6cabdd;opacity:0.7;stroke:#6cabdd;\" x=\"283.646557\" xlink:href=\"#mc6f277f019\" y=\"217.128565\"/>\n     <use style=\"fill:#6cabdd;opacity:0.7;stroke:#6cabdd;\" x=\"283.966452\" xlink:href=\"#mc6f277f019\" y=\"268.920389\"/>\n     <use style=\"fill:#6cabdd;opacity:0.7;stroke:#6cabdd;\" x=\"395.168266\" xlink:href=\"#mc6f277f019\" y=\"66.554828\"/>\n     <use style=\"fill:#6cabdd;opacity:0.7;stroke:#6cabdd;\" x=\"425.102055\" xlink:href=\"#mc6f277f019\" y=\"118.139751\"/>\n     <use style=\"fill:#6cabdd;opacity:0.7;stroke:#6cabdd;\" x=\"425.695556\" xlink:href=\"#mc6f277f019\" y=\"165.774812\"/>\n     <use style=\"fill:#6cabdd;opacity:0.7;stroke:#6cabdd;\" x=\"377.785402\" xlink:href=\"#mc6f277f019\" y=\"111.94951\"/>\n     <use style=\"fill:#6cabdd;opacity:0.7;stroke:#6cabdd;\" x=\"339.173285\" xlink:href=\"#mc6f277f019\" y=\"174.944704\"/>\n     <use style=\"fill:#6cabdd;opacity:0.7;stroke:#6cabdd;\" x=\"378.356862\" xlink:href=\"#mc6f277f019\" y=\"271.167751\"/>\n     <use style=\"fill:#6cabdd;opacity:0.7;stroke:#6cabdd;\" x=\"282.087061\" xlink:href=\"#mc6f277f019\" y=\"137.066754\"/>\n     <use style=\"fill:#6cabdd;opacity:0.7;stroke:#6cabdd;\" x=\"93.455357\" xlink:href=\"#mc6f277f019\" y=\"228.790337\"/>\n    </g>\n   </g>\n   <g id=\"line2d_30\">\n    <path clip-path=\"url(#p50696619c6)\" d=\"M 386.972555 145.628422 \n\" style=\"fill:none;\"/>\n    <defs>\n     <path d=\"M 0 3 \nC 0.795609 3 1.55874 2.683901 2.12132 2.12132 \nC 2.683901 1.55874 3 0.795609 3 0 \nC 3 -0.795609 2.683901 -1.55874 2.12132 -2.12132 \nC 1.55874 -2.683901 0.795609 -3 0 -3 \nC -0.795609 -3 -1.55874 -2.683901 -2.12132 -2.12132 \nC -2.683901 -1.55874 -3 -0.795609 -3 0 \nC -3 0.795609 -2.683901 1.55874 -2.12132 2.12132 \nC -1.55874 2.683901 -0.795609 3 0 3 \nz\n\" id=\"md89136a7e0\" style=\"stroke:#ffff00;\"/>\n    </defs>\n    <g clip-path=\"url(#p50696619c6)\">\n     <use style=\"fill:#ffff00;stroke:#ffff00;\" x=\"386.972555\" xlink:href=\"#md89136a7e0\" y=\"145.628422\"/>\n    </g>\n   </g>\n   <g id=\"patch_3\">\n    <path d=\"M 10.7 445.58 \nL 10.7 10.7 \n\" style=\"fill:none;stroke:#000000;stroke-linecap:square;stroke-linejoin:miter;stroke-width:0.8;\"/>\n   </g>\n   <g id=\"patch_4\">\n    <path d=\"M 680.3 445.58 \nL 680.3 10.7 \n\" style=\"fill:none;stroke:#000000;stroke-linecap:square;stroke-linejoin:miter;stroke-width:0.8;\"/>\n   </g>\n   <g id=\"patch_5\">\n    <path d=\"M 10.7 445.58 \nL 680.3 445.58 \n\" style=\"fill:none;stroke:#000000;stroke-linecap:square;stroke-linejoin:miter;stroke-width:0.8;\"/>\n   </g>\n   <g id=\"patch_6\">\n    <path d=\"M 10.7 10.7 \nL 680.3 10.7 \n\" style=\"fill:none;stroke:#000000;stroke-linecap:square;stroke-linejoin:miter;stroke-width:0.8;\"/>\n   </g>\n  </g>\n </g>\n <defs>\n  <clipPath id=\"p50696619c6\">\n   <rect height=\"434.88\" width=\"669.6\" x=\"10.7\" y=\"10.7\"/>\n  </clipPath>\n </defs>\n</svg>\n",
      "image/png": "[encoded data removed]"
     },
     "metadata": {}
    }
   ],
   "source": [
    "mviz.plot_frame(home_df.iloc[10], away_df.iloc[10], mviz.plot_pitch(field_color='twitter_dark_mode'), team_colors=team_color_list)"
   ]
  },
  {
   "cell_type": "code",
   "execution_count": 19,
   "metadata": {},
   "outputs": [
    {
     "output_type": "stream",
     "name": "stdout",
     "text": "Generating movie...done\n"
    }
   ],
   "source": [
    "mviz.save_match_clip(home_df, away_df, fpath=os.path.join(base_dir, 'reports', 'movie'), fname=play, figax=mviz.plot_pitch(field_color='twitter_dark_mode'), team_colors=team_color_list)"
   ]
  }
 ],
 "metadata": {
  "language_info": {
   "codemirror_mode": {
    "name": "ipython",
    "version": 3
   },
   "file_extension": ".py",
   "mimetype": "text/x-python",
   "name": "python",
   "nbconvert_exporter": "python",
   "pygments_lexer": "ipython3",
   "version": "3.6.0-final"
  },
  "orig_nbformat": 2,
  "kernelspec": {
   "name": "python36064bitpy36conda3ff1ef800910494ca5c265a70a3bf713",
   "display_name": "Python 3.6.0 64-bit ('py36': conda)"
  }
 },
 "nbformat": 4,
 "nbformat_minor": 2
}